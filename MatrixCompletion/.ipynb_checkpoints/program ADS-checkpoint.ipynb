{
 "metadata": {
  "name": "",
  "signature": "sha256:3a4a5defa58d79f714d625899a3762eda40bf9177fe46d6fb75f0d67bddd1fd8"
 },
 "nbformat": 3,
 "nbformat_minor": 0,
 "worksheets": [
  {
   "cells": [
    {
     "cell_type": "code",
     "collapsed": false,
     "input": [
      "import numpy as np\n",
      "from scipy import linalg\n",
      "from scipy import sparse"
     ],
     "language": "python",
     "metadata": {},
     "outputs": [],
     "prompt_number": 1
    },
    {
     "cell_type": "code",
     "collapsed": false,
     "input": [
      "M = np.array([[2, 3, 5], [1, np.nan, 4], [3, np.nan, 9]])\n",
      "r = 2\n",
      "m, n = M.shape\n",
      "Omega = ~np.isnan(M)"
     ],
     "language": "python",
     "metadata": {},
     "outputs": [],
     "prompt_number": 2
    },
    {
     "cell_type": "code",
     "collapsed": false,
     "input": [
      "# Get default options\n",
      "reltol = 1e-5\n",
      "maxiter = 5000\n",
      "rate_limit = 1-1e-4\n",
      "relres = reltol * linalg.norm(M[Omega])"
     ],
     "language": "python",
     "metadata": {},
     "outputs": [],
     "prompt_number": 10
    },
    {
     "cell_type": "code",
     "collapsed": false,
     "input": [
      "# Initialization\n",
      "X = np.random.randn(m, r)\n",
      "Y = np.random.randn(r, n)\n",
      "itres = np.zeros((itermax, 1))"
     ],
     "language": "python",
     "metadata": {},
     "outputs": [],
     "prompt_number": 11
    },
    {
     "cell_type": "code",
     "collapsed": false,
     "input": [
      "XY = np.dot(X, Y)\n",
      "diff_on_omega = M[Omega] - XY[Omega]\n",
      "res = linalg.norm(diff_on_omega)\n",
      "iter = 0\n",
      "itres[iter] = res\n",
      "conv_rate = 0"
     ],
     "language": "python",
     "metadata": {},
     "outputs": [],
     "prompt_number": 12
    },
    {
     "cell_type": "code",
     "collapsed": false,
     "input": [
      "while iter <= maxiter and res >= relres && conv_rate <= rate_limit:\n",
      "    \n",
      "    #Update gradient of X\n",
      "    diff_on_omega"
     ],
     "language": "python",
     "metadata": {},
     "outputs": [
      {
       "metadata": {},
       "output_type": "pyout",
       "prompt_number": 42,
       "text": [
        "array([[ 0.],\n",
        "       [ 0.],\n",
        "       [ 0.],\n",
        "       ..., \n",
        "       [ 0.],\n",
        "       [ 0.],\n",
        "       [ 0.]])"
       ]
      }
     ],
     "prompt_number": 42
    },
    {
     "cell_type": "code",
     "collapsed": false,
     "input": [],
     "language": "python",
     "metadata": {},
     "outputs": []
    }
   ],
   "metadata": {}
  }
 ]
}