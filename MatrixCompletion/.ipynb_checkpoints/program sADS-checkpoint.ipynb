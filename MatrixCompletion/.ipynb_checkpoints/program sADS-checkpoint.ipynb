{
 "metadata": {
  "name": "",
  "signature": "sha256:bf6c93356a368edba695b34b05dd1d0b420318fe64ede04f4c596c50b48db495"
 },
 "nbformat": 3,
 "nbformat_minor": 0,
 "worksheets": [
  {
   "cells": [
    {
     "cell_type": "code",
     "collapsed": false,
     "input": [
      "import numpy as np\n",
      "M = np.random.randn(5, 5)\n",
      "M[1][3] = np.nan\n",
      "M[0][0] = np.nan\n",
      "M[4][4] = np.nan\n",
      "from matrix_completion import MatrixCompletion\n",
      "problem = MatrixCompletion(M)\n",
      "problem.complete_it('ASD')"
     ],
     "language": "python",
     "metadata": {},
     "outputs": []
    },
    {
     "cell_type": "code",
     "collapsed": false,
     "input": [
      "import numpy as np\n",
      "from scipy import linalg\n",
      "np.set_printoptions(precision=4)\n",
      "np.set_printoptions(suppress=True)"
     ],
     "language": "python",
     "metadata": {},
     "outputs": [],
     "prompt_number": 184
    },
    {
     "cell_type": "code",
     "collapsed": false,
     "input": [
      "M = np.random.randn(5, 5)\n",
      "M[1][3] = np.nan\n",
      "M[0][0] = np.nan\n",
      "M[4][4] = np.nan\n",
      "r = 3\n",
      "m, n = M.shape\n",
      "Omega = ~np.isnan(M)"
     ],
     "language": "python",
     "metadata": {},
     "outputs": [],
     "prompt_number": 185
    },
    {
     "cell_type": "code",
     "collapsed": false,
     "input": [
      "# Get default options\n",
      "reltol = 1e-5\n",
      "maxiter = 5000\n",
      "rate_limit = 1-1e-4\n",
      "relres = reltol * linalg.norm(M[Omega])"
     ],
     "language": "python",
     "metadata": {},
     "outputs": [],
     "prompt_number": 186
    },
    {
     "cell_type": "code",
     "collapsed": false,
     "input": [
      "# Initialization\n",
      "X = np.random.randn(m, r)\n",
      "Y = np.random.randn(r, n)\n",
      "itres = np.zeros((maxiter+1, 1))"
     ],
     "language": "python",
     "metadata": {},
     "outputs": [],
     "prompt_number": 187
    },
    {
     "cell_type": "code",
     "collapsed": false,
     "input": [
      "XY = np.dot(X, Y)\n",
      "diff_on_omega = M[Omega] - XY[Omega]\n",
      "res = linalg.norm(diff_on_omega)\n",
      "iter = 0\n",
      "itres[iter] = res\n",
      "conv_rate = 0"
     ],
     "language": "python",
     "metadata": {},
     "outputs": [],
     "prompt_number": 188
    },
    {
     "cell_type": "code",
     "collapsed": false,
     "input": [
      "while iter < maxiter and res >= relres:\n",
      "    \n",
      "    # Gradient for X\n",
      "    diff_on_omega_matrix = np.zeros((m,n))\n",
      "    diff_on_omega_matrix[Omega] = diff_on_omega\n",
      "    grad_X = np.dot(diff_on_omega_matrix, np.transpose(Y))\n",
      "    \n",
      "    # Stepsize for X\n",
      "    delta_XY = np.dot(grad_X, Y)\n",
      "    tx = linalg.norm(grad_X,'fro')**2/linalg.norm(delta_XY)**2\n",
      "\n",
      "    # Update X\n",
      "    X = X + tx*grad_X;\n",
      "    diff_on_omega = diff_on_omega-tx*delta_XY[Omega]\n",
      "\n",
      "    # Gradient for Y\n",
      "    diff_on_omega_matrix = np.zeros((m,n))\n",
      "    diff_on_omega_matrix[Omega] = diff_on_omega\n",
      "    Xt = np.transpose(X)\n",
      "    grad_Y = np.dot(Xt, diff_on_omega_matrix)\n",
      "\n",
      "    # Stepsize for Y\n",
      "    delta_XY = np.dot(X, grad_Y)\n",
      "    ty = linalg.norm(grad_Y,'fro')**2/linalg.norm(delta_XY)**2\n",
      "\n",
      "    # Update Y\n",
      "    Y = Y + ty*grad_Y\n",
      "    diff_on_omega = diff_on_omega-ty*delta_XY[Omega]\n",
      "    \n",
      "    res = linalg.norm(diff_on_omega)\n",
      "    iter = iter + 1\n",
      "    itres[iter] = res\n",
      "    conv_rate = (itres[iter]/itres[max(1,iter-15)])**(1/min(15,iter-1))"
     ],
     "language": "python",
     "metadata": {},
     "outputs": [],
     "prompt_number": 199
    },
    {
     "cell_type": "code",
     "collapsed": false,
     "input": [
      "print(M)"
     ],
     "language": "python",
     "metadata": {},
     "outputs": [
      {
       "output_type": "stream",
       "stream": "stdout",
       "text": [
        "[[    nan -2.1153 -1.9456 -0.5765  0.2043]\n",
        " [-0.5269  0.0541  0.7719     nan  0.5008]\n",
        " [-1.0186  0.142  -0.6105  0.736  -0.1945]\n",
        " [-0.5267 -0.4906  1.0318  0.3188  0.9148]\n",
        " [ 1.0507 -1.0908  0.6899  0.8542     nan]]\n"
       ]
      }
     ],
     "prompt_number": 200
    },
    {
     "cell_type": "code",
     "collapsed": false,
     "input": [
      "np.dot(X, Y)"
     ],
     "language": "python",
     "metadata": {},
     "outputs": [
      {
       "metadata": {},
       "output_type": "pyout",
       "prompt_number": 201,
       "text": [
        "array([[ 10.5549,  -2.1198,  -1.9419,  -0.575 ,   0.1976],\n",
        "       [ -0.5361,  -0.0295,   0.8047,  -0.2126,   0.4203],\n",
        "       [ -1.0211,   0.107 ,  -0.5913,   0.7402,  -0.2349],\n",
        "       [ -0.5187,  -0.4465,   1.027 ,   0.3282,   0.9421],\n",
        "       [  1.0475,  -1.1013,   0.6857,   0.848 ,   1.3031]])"
       ]
      }
     ],
     "prompt_number": 201
    },
    {
     "cell_type": "code",
     "collapsed": false,
     "input": [],
     "language": "python",
     "metadata": {},
     "outputs": [
      {
       "metadata": {},
       "output_type": "pyout",
       "prompt_number": 202,
       "text": [
        "5000"
       ]
      }
     ],
     "prompt_number": 202
    }
   ],
   "metadata": {}
  }
 ]
}